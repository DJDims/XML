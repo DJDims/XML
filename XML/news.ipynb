{
 "cells": [
  {
   "cell_type": "code",
   "execution_count": 21,
   "metadata": {},
   "outputs": [],
   "source": [
    "import requests\n",
    "from bs4 import BeautifulSoup"
   ]
  },
  {
   "cell_type": "code",
   "execution_count": 32,
   "metadata": {},
   "outputs": [],
   "source": [
    "url = 'https://rus.postimees.ee/rss'\n",
    "\n",
    "xml_data = requests.get(url).content;\n",
    "\n",
    "soup = BeautifulSoup(xml_data, \"xml\");\n",
    "\n",
    "items = soup.findAll('item');\n",
    "\n",
    "f = open('test.html', 'w', encoding='utf-8');\n",
    "html_template = '''<html>\n",
    "<head>\n",
    "<title>Title</title>\n",
    "</head>\n",
    "<body>\n",
    "<h1>Welcome to Postimees </h1>\n",
    "'''\n",
    "for item in items[:5]:\n",
    "    title = item.find('title').text\n",
    "    description = item.find('description').text\n",
    "    img = item.find('enclosure')['url']\n",
    "    html_template += f\"<h2>{title}</h2>\"\n",
    "    html_template += f\"<p>{description}</p>\"\n",
    "    html_template += f\"<img src='{img}'>\"\n",
    "html_template += \"\"\"\n",
    "</body>\n",
    "</html>\n",
    "\"\"\"\n",
    "f.write(html_template);\n",
    "f.close();"
   ]
  }
 ],
 "metadata": {
  "interpreter": {
   "hash": "7a542ca580817fc4dd55327026e074e2fa0cd470fc5dee9350c2d8b13822db8d"
  },
  "kernelspec": {
   "display_name": "Python 3.8.1 32-bit",
   "language": "python",
   "name": "python3"
  },
  "language_info": {
   "codemirror_mode": {
    "name": "ipython",
    "version": 3
   },
   "file_extension": ".py",
   "mimetype": "text/x-python",
   "name": "python",
   "nbconvert_exporter": "python",
   "pygments_lexer": "ipython3",
   "version": "3.8.1"
  },
  "orig_nbformat": 4
 },
 "nbformat": 4,
 "nbformat_minor": 2
}
